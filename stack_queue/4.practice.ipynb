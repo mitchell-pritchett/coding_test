{
 "cells": [
  {
   "cell_type": "code",
   "execution_count": 2,
   "metadata": {},
   "outputs": [],
   "source": [
    "from typing import Any\n",
    "\n",
    "class FixedStack:\n",
    "    class Empty(Exception):\n",
    "        pass\n",
    "    class Full(Exception):\n",
    "        pass\n",
    "\n",
    "    def __init__(self, capacity: int = 256) -> None:\n",
    "        self.stk = [None] * capacity\n",
    "        self.capacity = capacity\n",
    "        self.ptr = 0\n",
    "    \n",
    "    def __len__(self) -> int: # __len__()를 정의하면 클래스형의 인스턴스를 len() 함수에 전달할 수 있다. len(class_obj) 이런 식으로\n",
    "        return self.ptr\n",
    "    \n",
    "    def is_empty(self) -> bool:\n",
    "        return self.ptr <= 0 \n",
    "    \n",
    "    def is_full(self) -> bool:\n",
    "        return self.ptr >= self.capacity\n",
    "\n",
    "    def push(self, value: Any) -> None:\n",
    "        if self.is_full():\n",
    "            raise FixedStack.Full\n",
    "        self.stk[self.ptr] = value\n",
    "        self.ptr += 1\n",
    "\n",
    "    def pop(self) -> Any:\n",
    "        if self.is_empty():\n",
    "            raise FixedStack.Empty\n",
    "        self.ptr -= 1\n",
    "        return self.stk[self.ptr]\n",
    "    \n",
    "    def peek(self) -> Any:\n",
    "        if self.is_empty():\n",
    "            raise FixedStack.Empty\n",
    "        return self.stk[self.ptr -1]\n",
    "    \n",
    "    def clear(self) -> None:\n",
    "        self.ptr = 0\n",
    "    \n",
    "    def find(self, value: Any) -> int:\n",
    "        '''top to bottom find value and return the first found index'''\n",
    "        if self.is_empty():\n",
    "            raise FixedStack.Empty\n",
    "        for i in range(self.ptr-1, -1, -1):\n",
    "            if self.stk[i] == value:\n",
    "                return i\n",
    "        return -1    \n",
    "\n",
    "    def count(self, value: Any) -> int:\n",
    "        counter = 0\n",
    "        for i in range(self.ptr-1, -1, -1):\n",
    "            if self.stk[i] == value:\n",
    "                counter += 1\n",
    "        return counter \n",
    "\n",
    "    def __contains__(self, value: Any) -> bool: # __contains__() 함수를 정의하면 클래스형의 인스턴스에 맴버십 판단 연산자 in을 적용할 수 있다.\n",
    "        return self.count(value) > 0\n",
    "    \n",
    "    def dump(self) -> None:\n",
    "        if self.is_empty():\n",
    "            print('empty stack')\n",
    "        print(self.stk[:self.ptr])\n"
   ]
  },
  {
   "cell_type": "code",
   "execution_count": null,
   "metadata": {},
   "outputs": [],
   "source": [
    "from enum import Enum\n",
    "# from fixed_stack import FixedStack\n",
    "\n",
    "Menu = Enum('Menu', ['push', 'pop', 'peek', 'find', 'dump', 'exit'])\n",
    "\n",
    "def select_menu() -> Menu:\n",
    "    s = [f'({m.value}){m.name}' for m in Menu]\n",
    "    while True:\n",
    "        print(*s, sep = '   ', end='')\n",
    "        n = int(input(\": \"))\n",
    "        if 1 <= n <= len(Menu):\n",
    "            return Menu(n)\n",
    "\n",
    "s = FixedStack(64)\n",
    "\n",
    "while True:\n",
    "    print(f'현재 데이터 개수: {len(s)} / {s.capacity}')\n",
    "    menu = select_menu()\n",
    "\n",
    "    if menu == Menu.push:\n",
    "        x = int(input('데이터를 입력하세요: '))\n",
    "        try:\n",
    "            s.push(x)\n",
    "        except FixedStack.Full:\n",
    "            print('stack is full')\n",
    "    elif menu == Menu.pop:\n",
    "        try:\n",
    "            x = s.pop()\n",
    "            print(f'popped data is {x}')\n",
    "        except FixedStack.Empty:\n",
    "            print('stack is empty')\n",
    "    \n",
    "    elif menu == Menu.peek:\n",
    "        try:\n",
    "            x = s.peek()\n",
    "            print(f'peeked data is {x}')\n",
    "        except FixedStack.Empty:\n",
    "            print('stack is empty')\n",
    "    elif menu == Menu.find:\n",
    "        x = int(input('what to find?: '))\n",
    "        if x in s:\n",
    "            print(f'found {s.count(x)} {x}s, first found in index {s.find}.')\n",
    "        else:\n",
    "            print('not found')\n",
    "    elif menu == Menu.dump:\n",
    "        s.dump()\n",
    "    else:\n",
    "        break\n",
    "\n"
   ]
  },
  {
   "cell_type": "code",
   "execution_count": 19,
   "metadata": {},
   "outputs": [
    {
     "data": {
      "text/plain": [
       "4"
      ]
     },
     "execution_count": 19,
     "metadata": {},
     "output_type": "execute_result"
    }
   ],
   "source": [
    "a = [1,2,3,None,None]\n",
    "len(s)"
   ]
  },
  {
   "cell_type": "code",
   "execution_count": 20,
   "metadata": {},
   "outputs": [
    {
     "data": {
      "text/plain": [
       "5"
      ]
     },
     "execution_count": 20,
     "metadata": {},
     "output_type": "execute_result"
    }
   ],
   "source": [
    "len(a)"
   ]
  },
  {
   "cell_type": "code",
   "execution_count": null,
   "metadata": {},
   "outputs": [],
   "source": [
    "from collections import deque\n",
    "from typing import Any\n",
    "\n",
    "class Stack:\n",
    "    def __init__(self, maxlen: int) -> None:\n",
    "        self.capacity = maxlen\n",
    "        self.__stk = deque([], maxlen)\n",
    "\n",
    "    def __len__(self) -> int:\n",
    "        return len(self.__stk)\n",
    "    \n",
    "    def is_empty(self) -> bool:\n",
    "        return not self.__stk\n",
    "    \n",
    "    def is_full(self) -> bool:\n",
    "        return len(self.__stk) == self.__stk.maxlen\n",
    "    \n",
    "    def push(self, value:Any) -> None:\n",
    "        self.__stk.append(value)\n",
    "\n",
    "    def pop(self) -> Any:\n",
    "        return self.__stk.pop()\n",
    "    \n",
    "    def peek(self) -> Any:\n",
    "        return self.__stk[-1]\n",
    "    \n",
    "    def clear(self) -> None:\n",
    "        self.__stk.clear()\n",
    "    \n",
    "    def find(self, value:Any) -> int:\n",
    "        try: self.__stk.index(value)\n",
    "        except ValueError: return -1\n",
    "    \n",
    "    def count(self, value:Any) -> int:\n",
    "        return self.__stk.count(value)\n",
    "\n",
    "    def __contains__(self, value:Any) -> bool:\n",
    "        return self.count(value) > 0\n",
    "    \n",
    "    def dump(self) -> None:\n",
    "        print(list(self.__stk))\n",
    "\n",
    "    "
   ]
  }
 ],
 "metadata": {
  "interpreter": {
   "hash": "35c198e26b9a3bcdeed239badc03ad14aa2a73ae2f0f5b006facfa5a0b538d9a"
  },
  "kernelspec": {
   "display_name": "Python 3.9.10 64-bit (windows store)",
   "language": "python",
   "name": "python3"
  },
  "language_info": {
   "codemirror_mode": {
    "name": "ipython",
    "version": 3
   },
   "file_extension": ".py",
   "mimetype": "text/x-python",
   "name": "python",
   "nbconvert_exporter": "python",
   "pygments_lexer": "ipython3",
   "version": "3.9.10"
  },
  "orig_nbformat": 4
 },
 "nbformat": 4,
 "nbformat_minor": 2
}
